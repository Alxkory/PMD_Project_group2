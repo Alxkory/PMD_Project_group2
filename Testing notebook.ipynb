{
 "cells": [
  {
   "cell_type": "markdown",
   "id": "ef19876e",
   "metadata": {},
   "source": [
    "# Notebook file for testing code without cluttering the .py files"
   ]
  },
  {
   "cell_type": "markdown",
   "id": "3377ca9c",
   "metadata": {},
   "source": [
    "import libraries:"
   ]
  },
  {
   "cell_type": "code",
   "execution_count": null,
   "id": "8c8155c8",
   "metadata": {},
   "outputs": [],
   "source": [
    "import numpy as np\n",
    "import matplotlib.pyplot as plt"
   ]
  },
  {
   "cell_type": "markdown",
   "id": "b16171d1",
   "metadata": {},
   "source": [
    "import local files:"
   ]
  },
  {
   "cell_type": "code",
   "execution_count": null,
   "id": "69ed834b",
   "metadata": {},
   "outputs": [],
   "source": [
    "import bicyclemodel\n",
    "from bicyclemodel import KinematicBicycleModel \n",
    "from bicyclemodel import RK4\n",
    "from bicyclemodel import euler "
   ]
  },
  {
   "cell_type": "markdown",
   "id": "c2aab9c4",
   "metadata": {},
   "source": [
    "    * todo\n",
    "    * draw workspace\n",
    "    * draw vehicle\n",
    "    * simulate vehicle \n",
    "    * use keys to control vehicle"
   ]
  },
  {
   "cell_type": "code",
   "execution_count": null,
   "id": "ef930689",
   "metadata": {},
   "outputs": [],
   "source": [
    "def testfunction_single(s):\n",
    "    w = np.cos(s) - s + np.sqrt(s)\n",
    "    return w\n",
    "\n",
    "def testfunction_vector(s):\n",
    "    #print(f\"inside test function,s:{s}\")\n",
    "    x,y,z = s\n",
    "\n",
    "    u = x**2 - z + 2.0*y\n",
    "    v = y*z - x\n",
    "    k = 3\n",
    "    w = np.array([u,v,k])\n",
    "    #print(f\"inside test function,w:{w}\")\n",
    "    return w\n",
    "\n",
    "timestep = 0.1\n",
    "endtime = 300\n",
    "\n",
    "H0  = 10\n",
    "Hr = H0\n",
    "d = 1\n",
    "L =10\n",
    "Ds2 = 20\n",
    "Dr2 =100\n",
    "g = 9.81\n",
    "fr = 0.01 #friction factor\n",
    "gam = 0\n",
    "vel0 = np.sqrt((2*g*Hr*d)/(L*fr+d))\n",
    "Hs0 = (Hr*d)/(L*fr+d)\n",
    "\n",
    "def watersys(y): # system function\n",
    "\n",
    "    H0  = 10\n",
    "    Hr = H0\n",
    "    d = 1\n",
    "    L =10\n",
    "    Ds2 = 20\n",
    "    Dr2 =100\n",
    "    g = 9.81\n",
    "    fr = 0.01 #friction factor\n",
    "    gam = 0\n",
    "\n",
    "    H,v = y\n",
    "    ve = np.sqrt(2*gam*g*H)\n",
    "    dHs = (d/np.sqrt(Ds2))**2 * (v-ve)\n",
    "    dv  = (g*(Hr-H) - (L/d)*(fr/2)*np.abs(v)*v)/L\n",
    "\n",
    "    w = np.array([dHs,dv])\n",
    "\n",
    "    return w\n"
   ]
  },
  {
   "cell_type": "code",
   "execution_count": null,
   "id": "613760b0",
   "metadata": {},
   "outputs": [],
   "source": [
    "y = np.array([3,4,5])\n",
    "euler(testfunction_vector,y,0.1)"
   ]
  },
  {
   "cell_type": "code",
   "execution_count": null,
   "id": "d483a514",
   "metadata": {},
   "outputs": [],
   "source": [
    "#y = (3,4,5)\n",
    "y = np.array([3,4,5]) \n",
    "RK4(testfunction_vector,y,0.1)"
   ]
  },
  {
   "cell_type": "code",
   "execution_count": null,
   "id": "3572ecf7",
   "metadata": {},
   "outputs": [],
   "source": [
    "outputarrayx = []\n",
    "outputarrayy = []\n",
    "\n",
    "ynew =  [Hs0,vel0]\n",
    "\n",
    "yprev = ynew\n",
    "abstime = 0\n",
    "\n",
    "while True:\n",
    "   \n",
    "    yprev = ynew\n",
    "    ynew = RK4(watersys,yprev,timestep)\n",
    "\n",
    "   # append!(outputarrayx,ynew[1])\n",
    "   # append!(outputarrayy,ynew[2])\n",
    "    outputarrayx.append(ynew[0])\n",
    "    outputarrayy.append(ynew[1])\n",
    "    abstime = abstime + timestep\n",
    "    if abstime > endtime:\n",
    "        break\n",
    "    \n",
    "timearray = np.linspace(0,endtime,len(outputarrayx))\n",
    "\n",
    "plt.plot(timearray,outputarrayx)\n",
    "plt.plot(timearray,outputarrayy)\n",
    "plt.show()"
   ]
  },
  {
   "cell_type": "code",
   "execution_count": null,
   "id": "c28482c4",
   "metadata": {},
   "outputs": [],
   "source": [
    "car = KinematicBicycleModel()\n",
    "dt = bicyclemodel.dt\n",
    "\n",
    "abstime = 0\n",
    "endtime = 300\n",
    "\n",
    "output_rk4 = []\n",
    "\n",
    "while True:\n",
    "    \n",
    "    \n",
    "\n",
    "    if abstime < 30:\n",
    "        throttle = 0.5\n",
    "    else:\n",
    "        throttle = 0\n",
    "    steering = np.sin(abstime*0.01)*0.1\n",
    "    output_rk4.append([car.x,car.y,car.yaw,car.v,throttle,steering,abstime])\n",
    "\n",
    "    \n",
    "\n",
    "    car.update(throttle,steering,method=\"RK4\")\n",
    "\n",
    "    abstime = abstime + dt\n",
    "    if abstime > endtime:\n",
    "        break\n",
    "\n",
    "\n",
    "output_rk4 = np.asarray(output_rk4)"
   ]
  },
  {
   "cell_type": "code",
   "execution_count": null,
   "id": "12dd0c15",
   "metadata": {},
   "outputs": [],
   "source": [
    "car = KinematicBicycleModel()\n",
    "dt = bicyclemodel.dt\n",
    "\n",
    "abstime = 0\n",
    "endtime = 300\n",
    "\n",
    "output_euler = []\n",
    "\n",
    "while True:\n",
    "    \n",
    "    \n",
    "\n",
    "    if abstime < 30:\n",
    "        throttle = 0.5\n",
    "    else:\n",
    "        throttle = 0\n",
    "    steering = np.sin(abstime*0.01)*0.1\n",
    "    output_euler.append([car.x,car.y,car.yaw,car.v,throttle,steering,abstime])\n",
    "\n",
    "    \n",
    "\n",
    "    car.update(throttle,steering,method=\"euler\")\n",
    "\n",
    "    abstime = abstime + dt\n",
    "    if abstime > endtime:\n",
    "        break\n",
    "\n",
    "\n",
    "output_euler = np.asarray(output_euler)"
   ]
  },
  {
   "cell_type": "code",
   "execution_count": null,
   "id": "990e8216",
   "metadata": {},
   "outputs": [],
   "source": [
    "plt.plot(output_rk4[:,0],output_rk4[:,1],label='rk4')\n",
    "plt.plot(output_euler[:,0],output_euler[:,1],label='euler')\n",
    "plt.title('euler vs rk4 method')\n",
    "plt.legend()\n",
    "plt.show()"
   ]
  },
  {
   "cell_type": "code",
   "execution_count": null,
   "id": "39d7fd8a",
   "metadata": {},
   "outputs": [],
   "source": [
    "from bicyclemodel import draw_rectangle\n",
    "import numpy as np\n",
    "import matplotlib.pyplot as plt\n",
    "height=5\n",
    "width=10\n",
    "Xcenter=0\n",
    "Ycenter=0\n",
    "Yaw=0.1\n",
    "plt.scatter((Xcenter),(Ycenter))\n",
    "draw_rectangle(plt,width,height,Xcenter,Ycenter,Yaw,color='purple')\n",
    "plt.plot((10,10,-10,-10,10),(10,-10,-10,10,10))\n",
    "plt.xlim=(-10,10)\n",
    "plt.ylim=(-10,10)\n",
    "plt.grid()\n",
    "plt.show()"
   ]
  },
  {
   "cell_type": "code",
   "execution_count": 1,
   "id": "9e7e67bd",
   "metadata": {},
   "outputs": [
    {
     "data": {
      "image/png": "[encoded data removed]",
      "text/plain": [
       "<Figure size 432x288 with 1 Axes>"
      ]
     },
     "metadata": {
      "needs_background": "light"
     },
     "output_type": "display_data"
    }
   ],
   "source": [
    "import bicyclemodel\n",
    "import numpy as np\n",
    "import matplotlib.pyplot as plt\n",
    "from bicyclemodel import KinematicBicycleModel\n",
    "\n",
    "car = KinematicBicycleModel(x=10.0,y=5.0,yaw=0.5)\n",
    "#\n",
    "#plt.plot((10,10,-10,-10,10),(10,-10,-10,10,10))\n",
    "\n",
    "car.draw_car(plot=plt,delta=0.5)\n",
    "\n",
    "plt.xlim=(-10,10)\n",
    "plt.ylim=(-10,10)\n",
    "plt.grid()\n",
    "plt.show()"
   ]
  },
  {
   "cell_type": "code",
   "execution_count": 134,
   "id": "5b5a5ba2",
   "metadata": {},
   "outputs": [
    {
     "data": {
      "text/plain": [
       "['simulation_number',\n",
       " 'rectangle_inflation_param',\n",
       " 'number_of_iterations',\n",
       " 'RRT_solution_time',\n",
       " 'collision_occured',\n",
       " 'planner_successful',\n",
       " 'out_of_time']"
      ]
     },
     "execution_count": 134,
     "metadata": {},
     "output_type": "execute_result"
    }
   ],
   "source": [
    "import matplotlib.pyplot as plt\n",
    "import numpy as np\n",
    "import pandas as pd\n",
    "# from pandas import Series\n",
    "\n",
    "results = pd.read_pickle(\"rrt_+_simulation_results.pkl\")\n",
    "list(results)"
   ]
  },
  {
   "cell_type": "code",
   "execution_count": 149,
   "id": "d57c2593",
   "metadata": {
    "scrolled": true
   },
   "outputs": [
    {
     "name": "stdout",
     "output_type": "stream",
     "text": [
      "-------- Rectangle inflation parameter = 0 --------\n",
      "Average sulution time = 0.681 s\n",
      "Collision-free paths found = 80.0 %\n",
      "paths without collision = 8.33 %\n",
      "Average number of RRT iterations = 930\n",
      "Amount of successful paths without collision = 1\n",
      "\n",
      "-------- Rectangle inflation parameter = 10 --------\n",
      "Average sulution time = 0.836 s\n",
      "Collision-free paths found = 60.0 %\n",
      "paths without collision = 0.0 %\n",
      "Average number of RRT iterations = 1144\n",
      "Amount of successful paths without collision = 0\n",
      "\n",
      "-------- Rectangle inflation parameter = 20 --------\n",
      "Average sulution time = 0.882 s\n",
      "Collision-free paths found = 64.29 %\n",
      "paths without collision = 55.56 %\n",
      "Average number of RRT iterations = 1272\n",
      "Amount of successful paths without collision = 5\n",
      "\n",
      "-------- Rectangle inflation parameter = 30 --------\n",
      "Average sulution time = 1.385 s\n",
      "Collision-free paths found = 42.86 %\n",
      "paths without collision = 100.0 %\n",
      "Average number of RRT iterations = 1819\n",
      "Amount of successful paths without collision = 6\n",
      "\n",
      "-------- Rectangle inflation parameter = 40 --------\n",
      "Average sulution time = 1.135 s\n",
      "Collision-free paths found = 50.0 %\n",
      "paths without collision = 100.0 %\n",
      "Average number of RRT iterations = 1817\n",
      "Amount of successful paths without collision = 7\n",
      "\n",
      "-------- Rectangle inflation parameter = 50 --------\n",
      "Average sulution time = 1.558 s\n",
      "Collision-free paths found = 35.71 %\n",
      "paths without collision = 100.0 %\n",
      "Average number of RRT iterations = 2569\n",
      "Amount of successful paths without collision = 5\n",
      "\n",
      "-------- Rectangle inflation parameter = 60 --------\n",
      "Average sulution time = 2.728 s\n",
      "Collision-free paths found = 57.14 %\n",
      "paths without collision = 87.5 %\n",
      "Average number of RRT iterations = 3456\n",
      "Amount of successful paths without collision = 7\n",
      "\n"
     ]
    },
    {
     "data": {
      "image/png": "[encoded data removed]",
      "text/plain": [
       "<Figure size 432x288 with 1 Axes>"
      ]
     },
     "metadata": {
      "needs_background": "light"
     },
     "output_type": "display_data"
    }
   ],
   "source": [
    "def extract(rectangle_inflation_param):\n",
    "    inf0 = results.loc[results['rectangle_inflation_param']==rectangle_inflation_param]\n",
    "\n",
    "    print(f'-------- Rectangle inflation parameter = {int(rectangle_inflation_param)} --------')\n",
    "\n",
    "    average_t = sum(pd.Series.dropna(inf0['RRT_solution_time'])) / len(pd.Series.dropna(inf0['RRT_solution_time']))\n",
    "    print(f'Average sulution time = {round(average_t, 3)} s')\n",
    "\n",
    "    planner_successful = sum(inf0['planner_successful'])/len(inf0['planner_successful'])*100\n",
    "    print(f'Collision-free paths found = {round(planner_successful,2)} %')\n",
    "\n",
    "    no_collision = (1-sum(pd.Series.dropna(inf0['collision_occured']))/len(pd.Series.dropna(inf0['collision_occured'])))*100\n",
    "    print(f'paths without collision = {round(no_collision,2)} %')\n",
    "\n",
    "    average_it = sum(pd.Series.dropna(inf0['number_of_iterations'])) / len(pd.Series.dropna(inf0['RRT_solution_time']))\n",
    "    print(f'Average number of RRT iterations = {int(average_it)}')\n",
    "    \n",
    "    no_collision2 = inf0.loc[results['collision_occured']==False]\n",
    "    amount = no_collision2.loc[no_collision2['rectangle_inflation_param']==rectangle_inflation_param]\n",
    "    print(f'Amount of successful paths without collision = {len(amount)}')\n",
    "    \n",
    "    print()\n",
    "    \n",
    "    return average_t, planner_successful, no_collision, average_it, no_collision\n",
    "\n",
    "average_ts = []\n",
    "planner_successfuls = []\n",
    "no_collisions = []\n",
    "average_its = []\n",
    "no_collisions = []\n",
    "\n",
    "offsets = np.linspace(0,60,7)\n",
    "\n",
    "for i in offsets: # 0, 10, ..., 60\n",
    "    average_t, planner_successful, no_collision, average_it, no_collision = extract(i)\n",
    "    average_ts.append(average_t)\n",
    "    planner_successfuls.append(planner_successful)\n",
    "    no_collisions.append(no_collision)\n",
    "    average_its.append(average_it)\n",
    "\n",
    "\n",
    "# plot\n",
    "fig, ax = plt.subplots()\n",
    "\n",
    "# ax.plot(offsets, average_ts, label = \"average time\")\n",
    "# ax.plot(offsets, planner_successfuls, label = \"paths found [%]\")\n",
    "# ax.plot(offsets, no_collisions, label = \"paths without collision [%]\")\n",
    "ax.plot(offsets, average_its, label = \"RRT iterations\")\n",
    "\n",
    "ax.set(xlim=(0, 60))\n",
    "# plt.plot(x, y)\n",
    "# plt.plot(y, x, label = \"line 2\")\n",
    "plt.legend()\n",
    "\n",
    "\n",
    "plt.show()\n",
    "# print(results)\n",
    "\n",
    "# 10x20\n",
    "# 19 max afmeting auto middelpunt tot hoek\n",
    "\n"
   ]
  },
  {
   "cell_type": "code",
   "execution_count": null,
   "id": "59bc38ee",
   "metadata": {},
   "outputs": [],
   "source": []
  }
 ],
 "metadata": {
  "kernelspec": {
   "display_name": "Python 3 (ipykernel)",
   "language": "python",
   "name": "python3"
  },
  "language_info": {
   "codemirror_mode": {
    "name": "ipython",
    "version": 3
   },
   "file_extension": ".py",
   "mimetype": "text/x-python",
   "name": "python",
   "nbconvert_exporter": "python",
   "pygments_lexer": "ipython3",
   "version": "3.8.8"
  }
 },
 "nbformat": 4,
 "nbformat_minor": 5
}
