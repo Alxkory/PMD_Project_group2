{
 "cells": [
  {
   "cell_type": "markdown",
   "id": "ef19876e",
   "metadata": {},
   "source": [
    "# Notebook file for testing code without cluttering the .py files"
   ]
  },
  {
   "cell_type": "markdown",
   "id": "3377ca9c",
   "metadata": {},
   "source": [
    "import libraries:"
   ]
  },
  {
   "cell_type": "code",
   "execution_count": 2,
   "id": "8c8155c8",
   "metadata": {},
   "outputs": [],
   "source": [
    "import numpy as np\n",
    "import matplotlib as plt"
   ]
  },
  {
   "cell_type": "markdown",
   "id": "b16171d1",
   "metadata": {},
   "source": [
    "import local files:"
   ]
  },
  {
   "cell_type": "code",
   "execution_count": 3,
   "id": "69ed834b",
   "metadata": {},
   "outputs": [],
   "source": [
    "from bicyclemodel import KinematicBicycleModel "
   ]
  },
  {
   "cell_type": "markdown",
   "id": "c2aab9c4",
   "metadata": {},
   "source": [
    "    * todo\n",
    "    * draw workspace\n",
    "    * draw vehicle\n",
    "    * simulate vehicle \n",
    "    * use keys to control vehicle"
   ]
  }
 ],
 "metadata": {
  "kernelspec": {
   "display_name": "Python 3",
   "language": "python",
   "name": "python3"
  },
  "language_info": {
   "codemirror_mode": {
    "name": "ipython",
    "version": 3
   },
   "file_extension": ".py",
   "mimetype": "text/x-python",
   "name": "python",
   "nbconvert_exporter": "python",
   "pygments_lexer": "ipython3",
   "version": "3.8.8"
  }
 },
 "nbformat": 4,
 "nbformat_minor": 5
}
