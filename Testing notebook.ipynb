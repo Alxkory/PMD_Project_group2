{
 "cells": [
  {
   "cell_type": "markdown",
   "id": "ef19876e",
   "metadata": {},
   "source": [
    "# Notebook file for testing code without cluttering the .py files"
   ]
  },
  {
   "cell_type": "markdown",
   "id": "3377ca9c",
   "metadata": {},
   "source": [
    "import libraries:"
   ]
  },
  {
   "cell_type": "code",
   "execution_count": null,
   "id": "8c8155c8",
   "metadata": {},
   "outputs": [],
   "source": [
    "import numpy as np\n",
    "import matplotlib.pyplot as plt"
   ]
  },
  {
   "cell_type": "markdown",
   "id": "b16171d1",
   "metadata": {},
   "source": [
    "import local files:"
   ]
  },
  {
   "cell_type": "code",
   "execution_count": null,
   "id": "69ed834b",
   "metadata": {},
   "outputs": [],
   "source": [
    "import bicyclemodel\n",
    "from bicyclemodel import KinematicBicycleModel \n",
    "from bicyclemodel import RK4\n",
    "from bicyclemodel import euler "
   ]
  },
  {
   "cell_type": "markdown",
   "id": "c2aab9c4",
   "metadata": {},
   "source": [
    "    * todo\n",
    "    * draw workspace\n",
    "    * draw vehicle\n",
    "    * simulate vehicle \n",
    "    * use keys to control vehicle"
   ]
  },
  {
   "cell_type": "code",
   "execution_count": null,
   "id": "ef930689",
   "metadata": {},
   "outputs": [],
   "source": [
    "def testfunction_single(s):\n",
    "    w = np.cos(s) - s + np.sqrt(s)\n",
    "    return w\n",
    "\n",
    "def testfunction_vector(s):\n",
    "    #print(f\"inside test function,s:{s}\")\n",
    "    x,y,z = s\n",
    "\n",
    "    u = x**2 - z + 2.0*y\n",
    "    v = y*z - x\n",
    "    k = 3\n",
    "    w = np.array([u,v,k])\n",
    "    #print(f\"inside test function,w:{w}\")\n",
    "    return w\n",
    "\n",
    "timestep = 0.1\n",
    "endtime = 300\n",
    "\n",
    "H0  = 10\n",
    "Hr = H0\n",
    "d = 1\n",
    "L =10\n",
    "Ds2 = 20\n",
    "Dr2 =100\n",
    "g = 9.81\n",
    "fr = 0.01 #friction factor\n",
    "gam = 0\n",
    "vel0 = np.sqrt((2*g*Hr*d)/(L*fr+d))\n",
    "Hs0 = (Hr*d)/(L*fr+d)\n",
    "\n",
    "def watersys(y): # system function\n",
    "\n",
    "    H0  = 10\n",
    "    Hr = H0\n",
    "    d = 1\n",
    "    L =10\n",
    "    Ds2 = 20\n",
    "    Dr2 =100\n",
    "    g = 9.81\n",
    "    fr = 0.01 #friction factor\n",
    "    gam = 0\n",
    "\n",
    "    H,v = y\n",
    "    ve = np.sqrt(2*gam*g*H)\n",
    "    dHs = (d/np.sqrt(Ds2))**2 * (v-ve)\n",
    "    dv  = (g*(Hr-H) - (L/d)*(fr/2)*np.abs(v)*v)/L\n",
    "\n",
    "    w = np.array([dHs,dv])\n",
    "\n",
    "    return w\n"
   ]
  },
  {
   "cell_type": "code",
   "execution_count": null,
   "id": "613760b0",
   "metadata": {},
   "outputs": [],
   "source": [
    "y = np.array([3,4,5])\n",
    "euler(testfunction_vector,y,0.1)"
   ]
  },
  {
   "cell_type": "code",
   "execution_count": null,
   "id": "d483a514",
   "metadata": {},
   "outputs": [],
   "source": [
    "#y = (3,4,5)\n",
    "y = np.array([3,4,5]) \n",
    "RK4(testfunction_vector,y,0.1)"
   ]
  },
  {
   "cell_type": "code",
   "execution_count": null,
   "id": "3572ecf7",
   "metadata": {},
   "outputs": [],
   "source": [
    "outputarrayx = []\n",
    "outputarrayy = []\n",
    "\n",
    "ynew =  [Hs0,vel0]\n",
    "\n",
    "yprev = ynew\n",
    "abstime = 0\n",
    "\n",
    "while True:\n",
    "   \n",
    "    yprev = ynew\n",
    "    ynew = RK4(watersys,yprev,timestep)\n",
    "\n",
    "   # append!(outputarrayx,ynew[1])\n",
    "   # append!(outputarrayy,ynew[2])\n",
    "    outputarrayx.append(ynew[0])\n",
    "    outputarrayy.append(ynew[1])\n",
    "    abstime = abstime + timestep\n",
    "    if abstime > endtime:\n",
    "        break\n",
    "    \n",
    "timearray = np.linspace(0,endtime,len(outputarrayx))\n",
    "\n",
    "plt.plot(timearray,outputarrayx)\n",
    "plt.plot(timearray,outputarrayy)\n",
    "plt.show()"
   ]
  },
  {
   "cell_type": "code",
   "execution_count": null,
   "id": "c28482c4",
   "metadata": {},
   "outputs": [],
   "source": [
    "car = KinematicBicycleModel()\n",
    "dt = bicyclemodel.dt\n",
    "\n",
    "abstime = 0\n",
    "endtime = 300\n",
    "\n",
    "output_rk4 = []\n",
    "\n",
    "while True:\n",
    "    \n",
    "    \n",
    "\n",
    "    if abstime < 30:\n",
    "        throttle = 0.5\n",
    "    else:\n",
    "        throttle = 0\n",
    "    steering = np.sin(abstime*0.01)*0.1\n",
    "    output_rk4.append([car.x,car.y,car.yaw,car.v,throttle,steering,abstime])\n",
    "\n",
    "    \n",
    "\n",
    "    car.update(throttle,steering,method=\"RK4\")\n",
    "\n",
    "    abstime = abstime + dt\n",
    "    if abstime > endtime:\n",
    "        break\n",
    "\n",
    "\n",
    "output_rk4 = np.asarray(output_rk4)"
   ]
  },
  {
   "cell_type": "code",
   "execution_count": null,
   "id": "12dd0c15",
   "metadata": {},
   "outputs": [],
   "source": [
    "car = KinematicBicycleModel()\n",
    "dt = bicyclemodel.dt\n",
    "\n",
    "abstime = 0\n",
    "endtime = 300\n",
    "\n",
    "output_euler = []\n",
    "\n",
    "while True:\n",
    "    \n",
    "    \n",
    "\n",
    "    if abstime < 30:\n",
    "        throttle = 0.5\n",
    "    else:\n",
    "        throttle = 0\n",
    "    steering = np.sin(abstime*0.01)*0.1\n",
    "    output_euler.append([car.x,car.y,car.yaw,car.v,throttle,steering,abstime])\n",
    "\n",
    "    \n",
    "\n",
    "    car.update(throttle,steering,method=\"euler\")\n",
    "\n",
    "    abstime = abstime + dt\n",
    "    if abstime > endtime:\n",
    "        break\n",
    "\n",
    "\n",
    "output_euler = np.asarray(output_euler)"
   ]
  },
  {
   "cell_type": "code",
   "execution_count": null,
   "id": "990e8216",
   "metadata": {},
   "outputs": [],
   "source": [
    "plt.plot(output_rk4[:,0],output_rk4[:,1],label='rk4')\n",
    "plt.plot(output_euler[:,0],output_euler[:,1],label='euler')\n",
    "plt.title('euler vs rk4 method')\n",
    "plt.legend()\n",
    "plt.show()"
   ]
  },
  {
   "cell_type": "code",
   "execution_count": null,
   "id": "39d7fd8a",
   "metadata": {},
   "outputs": [],
   "source": [
    "from bicyclemodel import draw_rectangle\n",
    "import numpy as np\n",
    "import matplotlib.pyplot as plt\n",
    "height=5\n",
    "width=10\n",
    "Xcenter=0\n",
    "Ycenter=0\n",
    "Yaw=0.1\n",
    "plt.scatter((Xcenter),(Ycenter))\n",
    "draw_rectangle(plt,width,height,Xcenter,Ycenter,Yaw,color='purple')\n",
    "plt.plot((10,10,-10,-10,10),(10,-10,-10,10,10))\n",
    "plt.xlim=(-10,10)\n",
    "plt.ylim=(-10,10)\n",
    "plt.grid()\n",
    "plt.show()"
   ]
  },
  {
   "cell_type": "code",
   "execution_count": 1,
   "id": "9e7e67bd",
   "metadata": {},
   "outputs": [
    {
     "data": {
      "image/png": "[encoded data removed]",
      "text/plain": [
       "<Figure size 432x288 with 1 Axes>"
      ]
     },
     "metadata": {
      "needs_background": "light"
     },
     "output_type": "display_data"
    }
   ],
   "source": [
    "import bicyclemodel\n",
    "import numpy as np\n",
    "import matplotlib.pyplot as plt\n",
    "from bicyclemodel import KinematicBicycleModel\n",
    "\n",
    "car = KinematicBicycleModel(x=10.0,y=5.0,yaw=0.5)\n",
    "#\n",
    "#plt.plot((10,10,-10,-10,10),(10,-10,-10,10,10))\n",
    "\n",
    "car.draw_car(plot=plt,delta=0.5)\n",
    "\n",
    "plt.xlim=(-10,10)\n",
    "plt.ylim=(-10,10)\n",
    "plt.grid()\n",
    "plt.show()"
   ]
  },
  {
   "cell_type": "code",
   "execution_count": 178,
   "id": "5b5a5ba2",
   "metadata": {},
   "outputs": [
    {
     "data": {
      "text/plain": [
       "['simulation_number',\n",
       " 'rectangle_inflation_param',\n",
       " 'number_of_iterations',\n",
       " 'RRT_solution_time',\n",
       " 'collision_occured',\n",
       " 'planner_successful',\n",
       " 'out_of_time']"
      ]
     },
     "execution_count": 178,
     "metadata": {},
     "output_type": "execute_result"
    }
   ],
   "source": [
    "import matplotlib.pyplot as plt\n",
    "import numpy as np\n",
    "import pandas as pd\n",
    "# from pandas import Series\n",
    "\n",
    "results = pd.read_pickle(\"rrt_+_simulation_results.pkl\")\n",
    "list(results)"
   ]
  },
  {
   "cell_type": "code",
   "execution_count": 188,
   "id": "3c4207f0",
   "metadata": {},
   "outputs": [
    {
     "name": "stdout",
     "output_type": "stream",
     "text": [
      "     simulation_number  rectangle_inflation_param  number_of_iterations  \\\n",
      "0                    0                          0                 791.0   \n",
      "31                  31                          0                1399.0   \n",
      "62                  62                          0                 971.0   \n",
      "93                  93                          0                   NaN   \n",
      "124                124                          0                   NaN   \n",
      "155                155                          0                 741.0   \n",
      "186                186                          0                 921.0   \n",
      "217                217                          0                1321.0   \n",
      "248                248                          0                1051.0   \n",
      "279                279                          0                   NaN   \n",
      "\n",
      "     RRT_solution_time collision_occured  planner_successful  out_of_time  \n",
      "0             1.666100              True                True        False  \n",
      "31            1.707198              True                True        False  \n",
      "62            1.178806              True                True        False  \n",
      "93                 NaN              None               False        False  \n",
      "124                NaN              None               False        False  \n",
      "155           0.901634              True                True        False  \n",
      "186           1.071378              True                True        False  \n",
      "217           1.959453              True                True        False  \n",
      "248           1.476063              True                True        False  \n",
      "279                NaN              None               False        False  \n"
     ]
    }
   ],
   "source": [
    "results2 = results.loc[results['rectangle_inflation_param']==0]\n",
    "print(results2)"
   ]
  },
  {
   "cell_type": "code",
   "execution_count": 192,
   "id": "d57c2593",
   "metadata": {
    "scrolled": true
   },
   "outputs": [
    {
     "name": "stdout",
     "output_type": "stream",
     "text": [
      "[ 0.  2.  4.  6.  8. 10. 12. 14. 16. 18. 20. 22. 24. 26. 28. 30. 32. 34.\n",
      " 36. 38. 40. 42. 44. 46. 48. 50. 52. 54. 56. 58. 60.]\n",
      "-------- Rectangle inflation parameter = 0 --------\n",
      "Average solution time = 1.423 s\n",
      "Collision-free paths found = 70.0 %\n",
      "paths without collision = 0.0 %\n",
      "Average number of RRT iterations = 1027\n",
      "\n",
      "-------- Rectangle inflation parameter = 2 --------\n",
      "Average solution time = 1.236 s\n",
      "Collision-free paths found = 70.0 %\n",
      "paths without collision = 0.0 %\n",
      "Average number of RRT iterations = 1006\n",
      "\n",
      "-------- Rectangle inflation parameter = 4 --------\n",
      "Average solution time = 1.521 s\n",
      "Collision-free paths found = 70.0 %\n",
      "paths without collision = 0.0 %\n",
      "Average number of RRT iterations = 1101\n",
      "\n",
      "-------- Rectangle inflation parameter = 6 --------\n",
      "Average solution time = 1.506 s\n",
      "Collision-free paths found = 40.0 %\n",
      "paths without collision = 0.0 %\n",
      "Average number of RRT iterations = 1221\n",
      "\n",
      "-------- Rectangle inflation parameter = 8 --------\n",
      "Average solution time = 1.978 s\n",
      "Collision-free paths found = 60.0 %\n",
      "paths without collision = 0.0 %\n",
      "Average number of RRT iterations = 1437\n",
      "\n",
      "-------- Rectangle inflation parameter = 10 --------\n",
      "Average solution time = 1.691 s\n",
      "Collision-free paths found = 50.0 %\n",
      "paths without collision = 0.0 %\n",
      "Average number of RRT iterations = 1272\n",
      "\n",
      "-------- Rectangle inflation parameter = 12 --------\n",
      "Average solution time = 1.506 s\n",
      "Collision-free paths found = 40.0 %\n",
      "paths without collision = 0.0 %\n",
      "Average number of RRT iterations = 1233\n",
      "\n",
      "-------- Rectangle inflation parameter = 14 --------\n",
      "Average solution time = 0.995 s\n",
      "Collision-free paths found = 30.0 %\n",
      "paths without collision = 33.33 %\n",
      "Average number of RRT iterations = 842\n",
      "\n",
      "-------- Rectangle inflation parameter = 16 --------\n",
      "Average solution time = 1.439 s\n",
      "Collision-free paths found = 60.0 %\n",
      "paths without collision = 50.0 %\n",
      "Average number of RRT iterations = 1166\n",
      "\n",
      "-------- Rectangle inflation parameter = 18 --------\n",
      "Average solution time = 1.466 s\n",
      "Collision-free paths found = 40.0 %\n",
      "paths without collision = 100.0 %\n",
      "Average number of RRT iterations = 1204\n",
      "\n",
      "-------- Rectangle inflation parameter = 20 --------\n",
      "Average solution time = 1.568 s\n",
      "Collision-free paths found = 50.0 %\n",
      "paths without collision = 60.0 %\n",
      "Average number of RRT iterations = 1257\n",
      "\n",
      "-------- Rectangle inflation parameter = 22 --------\n",
      "Average solution time = 2.059 s\n",
      "Collision-free paths found = 50.0 %\n",
      "paths without collision = 100.0 %\n",
      "Average number of RRT iterations = 1584\n",
      "\n",
      "-------- Rectangle inflation parameter = 24 --------\n",
      "Average solution time = 2.06 s\n",
      "Collision-free paths found = 60.0 %\n",
      "paths without collision = 66.67 %\n",
      "Average number of RRT iterations = 1636\n",
      "\n",
      "-------- Rectangle inflation parameter = 26 --------\n",
      "Average solution time = 1.757 s\n",
      "Collision-free paths found = 40.0 %\n",
      "paths without collision = 100.0 %\n",
      "Average number of RRT iterations = 1436\n",
      "\n",
      "-------- Rectangle inflation parameter = 28 --------\n",
      "Average solution time = 1.614 s\n",
      "Collision-free paths found = 30.0 %\n",
      "paths without collision = 100.0 %\n",
      "Average number of RRT iterations = 1346\n",
      "\n",
      "-------- Rectangle inflation parameter = 30 --------\n",
      "Average solution time = 1.52 s\n",
      "Collision-free paths found = 70.0 %\n",
      "paths without collision = 85.71 %\n",
      "Average number of RRT iterations = 1335\n",
      "\n",
      "-------- Rectangle inflation parameter = 32 --------\n",
      "Average solution time = 2.433 s\n",
      "Collision-free paths found = 30.0 %\n",
      "paths without collision = 100.0 %\n",
      "Average number of RRT iterations = 1931\n",
      "\n",
      "-------- Rectangle inflation parameter = 34 --------\n",
      "Average solution time = 2.563 s\n",
      "Collision-free paths found = 60.0 %\n",
      "paths without collision = 83.33 %\n",
      "Average number of RRT iterations = 1947\n",
      "\n",
      "-------- Rectangle inflation parameter = 36 --------\n",
      "Average solution time = 2.455 s\n",
      "Collision-free paths found = 50.0 %\n",
      "paths without collision = 100.0 %\n",
      "Average number of RRT iterations = 1924\n",
      "\n",
      "-------- Rectangle inflation parameter = 38 --------\n",
      "Average solution time = 2.132 s\n",
      "Collision-free paths found = 80.0 %\n",
      "paths without collision = 100.0 %\n",
      "Average number of RRT iterations = 1760\n",
      "\n",
      "-------- Rectangle inflation parameter = 40 --------\n",
      "Average solution time = 2.636 s\n",
      "Collision-free paths found = 50.0 %\n",
      "paths without collision = 100.0 %\n",
      "Average number of RRT iterations = 2125\n",
      "\n",
      "-------- Rectangle inflation parameter = 42 --------\n",
      "Average solution time = 5.479 s\n",
      "Collision-free paths found = 50.0 %\n",
      "paths without collision = 80.0 %\n",
      "Average number of RRT iterations = 3329\n",
      "\n",
      "-------- Rectangle inflation parameter = 44 --------\n",
      "Average solution time = 2.511 s\n",
      "Collision-free paths found = 50.0 %\n",
      "paths without collision = 100.0 %\n",
      "Average number of RRT iterations = 2060\n",
      "\n",
      "-------- Rectangle inflation parameter = 46 --------\n",
      "Average solution time = 2.933 s\n",
      "Collision-free paths found = 70.0 %\n",
      "paths without collision = 100.0 %\n",
      "Average number of RRT iterations = 2372\n",
      "\n",
      "-------- Rectangle inflation parameter = 48 --------\n",
      "Average solution time = 3.128 s\n",
      "Collision-free paths found = 60.0 %\n",
      "paths without collision = 100.0 %\n",
      "Average number of RRT iterations = 2530\n",
      "\n",
      "-------- Rectangle inflation parameter = 50 --------\n",
      "Average solution time = 2.438 s\n",
      "Collision-free paths found = 60.0 %\n",
      "paths without collision = 100.0 %\n",
      "Average number of RRT iterations = 2157\n",
      "\n",
      "-------- Rectangle inflation parameter = 52 --------\n",
      "Average solution time = 3.181 s\n",
      "Collision-free paths found = 50.0 %\n",
      "paths without collision = 100.0 %\n",
      "Average number of RRT iterations = 2436\n",
      "\n",
      "-------- Rectangle inflation parameter = 54 --------\n",
      "Average solution time = 2.904 s\n",
      "Collision-free paths found = 60.0 %\n",
      "paths without collision = 100.0 %\n",
      "Average number of RRT iterations = 2492\n",
      "\n",
      "-------- Rectangle inflation parameter = 56 --------\n",
      "Average solution time = 4.747 s\n",
      "Collision-free paths found = 30.0 %\n",
      "paths without collision = 100.0 %\n",
      "Average number of RRT iterations = 3351\n",
      "\n",
      "-------- Rectangle inflation parameter = 58 --------\n",
      "Average solution time = 5.192 s\n",
      "Collision-free paths found = 50.0 %\n",
      "paths without collision = 100.0 %\n",
      "Average number of RRT iterations = 3755\n",
      "\n",
      "-------- Rectangle inflation parameter = 60 --------\n",
      "Average solution time = 4.689 s\n",
      "Collision-free paths found = 30.0 %\n",
      "paths without collision = 100.0 %\n",
      "Average number of RRT iterations = 3543\n",
      "\n"
     ]
    }
   ],
   "source": [
    "def extract(rectangle_inflation_param):\n",
    "    inf0 = results.loc[results['rectangle_inflation_param']==rectangle_inflation_param]\n",
    "\n",
    "    print(f'-------- Rectangle inflation parameter = {int(rectangle_inflation_param)} --------')\n",
    "\n",
    "    average_t = sum(pd.Series.dropna(inf0['RRT_solution_time'])) / len(pd.Series.dropna(inf0['RRT_solution_time']))\n",
    "    print(f'Average solution time = {round(average_t, 3)} s')\n",
    "\n",
    "    planner_successful = sum(inf0['planner_successful'])/len(inf0['planner_successful'])*100\n",
    "    print(f'Collision-free paths found = {round(planner_successful,2)} %')\n",
    "\n",
    "    no_collision = (1-sum(pd.Series.dropna(inf0['collision_occured']))/len(pd.Series.dropna(inf0['collision_occured'])))*100\n",
    "    print(f'paths without collision = {round(no_collision,2)} %')\n",
    "\n",
    "    average_it = sum(pd.Series.dropna(inf0['number_of_iterations'])) / len(pd.Series.dropna(inf0['RRT_solution_time']))\n",
    "    print(f'Average number of RRT iterations = {int(average_it)}')\n",
    "    \n",
    "#     no_collision2 = inf0.loc[results['collision_occured']==False]\n",
    "#     amount = no_collision2.loc[no_collision2['rectangle_inflation_param']==rectangle_inflation_param]\n",
    "#     print(f'Amount of successful paths without collision = {len(amount)}')\n",
    "    \n",
    "    print()\n",
    "    \n",
    "    \n",
    "    \n",
    "    \n",
    "#     print(f'-------- Rectangle inflation parameter = {int(rectangle_inflation_param)} --------')\n",
    "\n",
    "#     average_t = len(pd.Series.dropna(inf0['RRT_solution_time']))\n",
    "#     print(f'Average solution time = {round(average_t, 3)} s')\n",
    "\n",
    "#     planner_successful = len(inf0['planner_successful'])\n",
    "#     print(f'Collision-free paths found = {round(planner_successful,2)} %')\n",
    "\n",
    "#     no_collision = len(pd.Series.dropna(inf0['collision_occured']))\n",
    "#     print(f'paths without collision = {round(no_collision,2)} %')\n",
    "\n",
    "#     average_it = len(pd.Series.dropna(inf0['RRT_solution_time']))\n",
    "#     print(f'Average number of RRT iterations = {int(average_it)}')\n",
    "    \n",
    "#     no_collision2 = inf0.loc[results['collision_occured']==False]\n",
    "#     amount = no_collision2.loc[no_collision2['rectangle_inflation_param']==rectangle_inflation_param]\n",
    "#     print(f'Amount of successful paths without collision = {len(amount)}')\n",
    "    \n",
    "#     print()\n",
    "    \n",
    "    return average_t, planner_successful, no_collision, average_it, no_collision\n",
    "\n",
    "average_ts = []\n",
    "planner_successfuls = []\n",
    "no_collisions = []\n",
    "average_its = []\n",
    "no_collisions = []\n",
    "\n",
    "offsets = np.linspace(0,60,31)\n",
    "print(offsets)\n",
    "\n",
    "for i in offsets: # \n",
    "    average_t, planner_successful, no_collision, average_it, no_collision = extract(i)\n",
    "    average_ts.append(average_t)\n",
    "    planner_successfuls.append(planner_successful)\n",
    "    no_collisions.append(no_collision)\n",
    "    average_its.append(average_it)\n",
    "\n",
    "\n",
    "\n",
    "\n",
    "\n",
    "# 10x20\n",
    "# 19 max afmeting auto middelpunt tot hoek\n",
    "\n"
   ]
  },
  {
   "cell_type": "code",
   "execution_count": 193,
   "id": "014d29fd",
   "metadata": {},
   "outputs": [
    {
     "data": {
      "text/plain": [
       "[(0.0, 60.0)]"
      ]
     },
     "execution_count": 193,
     "metadata": {},
     "output_type": "execute_result"
    },
    {
     "data": {
      "image/png": "[encoded data removed]",
      "text/plain": [
       "<Figure size 432x288 with 1 Axes>"
      ]
     },
     "metadata": {
      "needs_background": "light"
     },
     "output_type": "display_data"
    }
   ],
   "source": [
    "# plot\n",
    "fig, ax = plt.subplots()\n",
    "\n",
    "ax.scatter(offsets, average_ts)\n",
    "plt.ylabel('Average solution time')\n",
    "\n",
    "plt.xlabel('Obstacle offset')\n",
    "ax.set(xlim=(0, 60))"
   ]
  },
  {
   "cell_type": "code",
   "execution_count": 194,
   "id": "78a2464a",
   "metadata": {},
   "outputs": [
    {
     "data": {
      "text/plain": [
       "[(0.0, 60.0)]"
      ]
     },
     "execution_count": 194,
     "metadata": {},
     "output_type": "execute_result"
    },
    {
     "data": {
      "image/png": "[encoded data removed]",
      "text/plain": [
       "<Figure size 432x288 with 1 Axes>"
      ]
     },
     "metadata": {
      "needs_background": "light"
     },
     "output_type": "display_data"
    }
   ],
   "source": [
    "# plot\n",
    "fig, ax = plt.subplots()\n",
    "\n",
    "ax.scatter(offsets, planner_successfuls)\n",
    "plt.ylabel('Collision-free paths found')\n",
    "\n",
    "plt.xlabel('Obstacle offset')\n",
    "ax.set(xlim=(0, 60))"
   ]
  },
  {
   "cell_type": "code",
   "execution_count": 195,
   "id": "f5fe0d2f",
   "metadata": {},
   "outputs": [
    {
     "data": {
      "text/plain": [
       "[(0.0, 60.0)]"
      ]
     },
     "execution_count": 195,
     "metadata": {},
     "output_type": "execute_result"
    },
    {
     "data": {
      "image/png": "[encoded data removed]",
      "text/plain": [
       "<Figure size 432x288 with 1 Axes>"
      ]
     },
     "metadata": {
      "needs_background": "light"
     },
     "output_type": "display_data"
    }
   ],
   "source": [
    "# plot\n",
    "fig, ax = plt.subplots()\n",
    "\n",
    "ax.scatter(offsets, no_collisions)\n",
    "plt.ylabel('Paths without collision')\n",
    "\n",
    "plt.xlabel('Obstacle offset')\n",
    "ax.set(xlim=(0, 60))"
   ]
  },
  {
   "cell_type": "code",
   "execution_count": 196,
   "id": "da5b63a2",
   "metadata": {},
   "outputs": [
    {
     "data": {
      "text/plain": [
       "[(0.0, 60.0)]"
      ]
     },
     "execution_count": 196,
     "metadata": {},
     "output_type": "execute_result"
    },
    {
     "data": {
      "image/png": "[encoded data removed]",
      "text/plain": [
       "<Figure size 432x288 with 1 Axes>"
      ]
     },
     "metadata": {
      "needs_background": "light"
     },
     "output_type": "display_data"
    }
   ],
   "source": [
    "# plot\n",
    "fig, ax = plt.subplots()\n",
    "\n",
    "ax.scatter(offsets, average_its)\n",
    "plt.ylabel('Average number of RRT iterations')\n",
    "\n",
    "plt.xlabel('Obstacle offset')\n",
    "ax.set(xlim=(0, 60))"
   ]
  },
  {
   "cell_type": "code",
   "execution_count": null,
   "id": "4e4ef3ea",
   "metadata": {},
   "outputs": [],
   "source": []
  }
 ],
 "metadata": {
  "kernelspec": {
   "display_name": "Python 3 (ipykernel)",
   "language": "python",
   "name": "python3"
  },
  "language_info": {
   "codemirror_mode": {
    "name": "ipython",
    "version": 3
   },
   "file_extension": ".py",
   "mimetype": "text/x-python",
   "name": "python",
   "nbconvert_exporter": "python",
   "pygments_lexer": "ipython3",
   "version": "3.8.8"
  }
 },
 "nbformat": 4,
 "nbformat_minor": 5
}
